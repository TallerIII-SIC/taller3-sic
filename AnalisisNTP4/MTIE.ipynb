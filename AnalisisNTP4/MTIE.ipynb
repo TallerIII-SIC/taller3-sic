{
 "cells": [
  {
   "cell_type": "code",
   "execution_count": 4,
   "metadata": {},
   "outputs": [
    {
     "name": "stderr",
     "output_type": "stream",
     "text": [
      "E:\\Anaconda\\lib\\site-packages\\matplotlib\\axes\\_base.py:3477: UserWarning: Attempted to set non-positive ylimits for log-scale axis; invalid limits will be ignored.\n",
      "  'Attempted to set non-positive ylimits for log-scale axis; '\n"
     ]
    }
   ],
   "source": [
    "import numpy as np\n",
    "import matplotlib.pyplot as plt\n",
    "\n",
    "%matplotlib qt\n",
    "\n",
    "from main import calculate_cdf\n",
    "\n",
    "def main():\n",
    "\tphi_values = []\n",
    "    \n",
    "\twith open('PPS.log') as file:\n",
    "        \n",
    "\t\tprevious = None\n",
    "        \n",
    "\t\tfor line in file:\n",
    "            \n",
    "            # Salta las lineas iniciales.\n",
    "\t\t\tif not line[0].isdigit():\n",
    "\t\t\t\tcontinue\n",
    "                \n",
    "\t\t\tline = line[:-1]\n",
    "\t\t\tcurrent_pps = float(line)\n",
    "            \n",
    "\t\t\tif previous != None:\n",
    "                \n",
    "\t\t\t\t# cortar lo que está arriba de \"10e-4\" (ver qué valor corresponde)\n",
    "\t\t\t\tdiff = current_pps - previous - 1\n",
    "\t\t\t\tphi_values.append(abs(diff)) \n",
    "\n",
    "\t\t\tprevious = current_pps\n",
    "\n",
    "\n",
    "\tplt.plot(phi_values, 'o')\n",
    "\t#cdf = calculate_cdf(phi_values)\n",
    "\t#plt.plot(cdf, [x/len(cdf) for x in range(len(cdf))], '.')\n",
    "\tplt.show()\n",
    "\n",
    "\n",
    "if __name__ == '__main__':\n",
    "\tmain()"
   ]
  },
  {
   "cell_type": "code",
   "execution_count": null,
   "metadata": {},
   "outputs": [],
   "source": []
  },
  {
   "cell_type": "code",
   "execution_count": null,
   "metadata": {},
   "outputs": [],
   "source": []
  }
 ],
 "metadata": {
  "kernelspec": {
   "display_name": "Python 3",
   "language": "python",
   "name": "python3"
  },
  "language_info": {
   "codemirror_mode": {
    "name": "ipython",
    "version": 3
   },
   "file_extension": ".py",
   "mimetype": "text/x-python",
   "name": "python",
   "nbconvert_exporter": "python",
   "pygments_lexer": "ipython3",
   "version": "3.7.0"
  }
 },
 "nbformat": 4,
 "nbformat_minor": 2
}
