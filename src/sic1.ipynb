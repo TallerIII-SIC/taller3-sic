{
 "cells": [
  {
   "cell_type": "markdown",
   "metadata": {},
   "source": [
    "Timer para medir cuanto tiempo tarda cada parte del proceso"
   ]
  },
  {
   "cell_type": "code",
   "execution_count": 2,
   "metadata": {},
   "outputs": [],
   "source": [
    "from timer import Timer\n",
    "timer = Timer()"
   ]
  },
  {
   "cell_type": "markdown",
   "metadata": {},
   "source": [
    "Definiciones de nombres de archivos de entrada y salida"
   ]
  },
  {
   "cell_type": "code",
   "execution_count": 46,
   "metadata": {},
   "outputs": [],
   "source": [
    "T_FILE = \"../Mediciones/tiempos.bin\"\n",
    "O_FILE = \"../Mediciones/sic_phi.bin\"\n",
    "T1_OUT_FILE = \"../Mediciones/t1.bin\""
   ]
  },
  {
   "cell_type": "markdown",
   "metadata": {},
   "source": [
    "Lectura de datos"
   ]
  },
  {
   "cell_type": "code",
   "execution_count": 4,
   "metadata": {},
   "outputs": [],
   "source": [
    "from read_times import read_times"
   ]
  },
  {
   "cell_type": "code",
   "execution_count": 19,
   "metadata": {},
   "outputs": [
    {
     "name": "stdout",
     "output_type": "stream",
     "text": [
      "Finished reading data (0.013s)\n"
     ]
    }
   ],
   "source": [
    "timer.start()\n",
    "t1, t2, t3, t4 = read_times(T_FILE)\n",
    "timer.end(\"Finished reading data ({:.3f}s)\")"
   ]
  },
  {
   "cell_type": "code",
   "execution_count": 17,
   "metadata": {},
   "outputs": [
    {
     "data": {
      "text/plain": [
       "1543858735933270.0"
      ]
     },
     "execution_count": 17,
     "metadata": {},
     "output_type": "execute_result"
    }
   ],
   "source": [
    "t1[0]"
   ]
  },
  {
   "cell_type": "markdown",
   "metadata": {},
   "source": [
    "Problema: t1 (cliente) y t2 (servidor) están MUY ALEJADOS (no era así con los datos originales, estaban a menos de 1 segundo) -> LO ARREGLO A MANO"
   ]
  },
  {
   "cell_type": "code",
   "execution_count": 23,
   "metadata": {},
   "outputs": [],
   "source": [
    "import numpy as np"
   ]
  },
  {
   "cell_type": "code",
   "execution_count": 28,
   "metadata": {},
   "outputs": [],
   "source": [
    "p = np.argmax(np.abs(t2-t1))"
   ]
  },
  {
   "cell_type": "code",
   "execution_count": 32,
   "metadata": {},
   "outputs": [
    {
     "data": {
      "text/plain": [
       "17369864679431.955"
      ]
     },
     "execution_count": 32,
     "metadata": {},
     "output_type": "execute_result"
    }
   ],
   "source": [
    "np.mean(np.abs(t2-t1))"
   ]
  },
  {
   "cell_type": "code",
   "execution_count": null,
   "metadata": {},
   "outputs": [],
   "source": []
  },
  {
   "cell_type": "code",
   "execution_count": 29,
   "metadata": {},
   "outputs": [
    {
     "data": {
      "text/plain": [
       "1543956409292411.0"
      ]
     },
     "execution_count": 29,
     "metadata": {},
     "output_type": "execute_result"
    }
   ],
   "source": [
    "t1[p]"
   ]
  },
  {
   "cell_type": "code",
   "execution_count": 30,
   "metadata": {},
   "outputs": [
    {
     "data": {
      "text/plain": [
       "1526586542774990.0"
      ]
     },
     "execution_count": 30,
     "metadata": {},
     "output_type": "execute_result"
    }
   ],
   "source": [
    "t2[p]"
   ]
  },
  {
   "cell_type": "code",
   "execution_count": 31,
   "metadata": {},
   "outputs": [
    {
     "data": {
      "text/plain": [
       "-17369866517421.0"
      ]
     },
     "execution_count": 31,
     "metadata": {},
     "output_type": "execute_result"
    }
   ],
   "source": [
    "t2[p] - t1[p]"
   ]
  },
  {
   "cell_type": "markdown",
   "metadata": {},
   "source": [
    "Now, we can estimate the $\\Phi$ values using that $\\Phi = (t_1-t_2-t_3+t_4)/2$"
   ]
  },
  {
   "cell_type": "code",
   "execution_count": 20,
   "metadata": {},
   "outputs": [
    {
     "name": "stdout",
     "output_type": "stream",
     "text": [
      "Finished Phi estimation (0.012s)\n"
     ]
    }
   ],
   "source": [
    "from estimate_phi import phi_estimation\n",
    "\n",
    "timer.start()\n",
    "phi_est = phi_estimation(t1, t2, t3, t4)\n",
    "timer.end(\"Finished Phi estimation ({:.3f}s)\")"
   ]
  },
  {
   "cell_type": "code",
   "execution_count": 33,
   "metadata": {},
   "outputs": [],
   "source": [
    "phi_est = phi_est % 1000000"
   ]
  },
  {
   "cell_type": "markdown",
   "metadata": {},
   "source": [
    "And plot the results"
   ]
  },
  {
   "cell_type": "code",
   "execution_count": 34,
   "metadata": {},
   "outputs": [
    {
     "data": {
      "image/png": "[encoded data removed]",
      "text/plain": [
       "<Figure size 432x288 with 1 Axes>"
      ]
     },
     "metadata": {},
     "output_type": "display_data"
    }
   ],
   "source": [
    "import matplotlib.pyplot as plt\n",
    "import numpy as np\n",
    "plt.plot(t1/1e6,phi_est,c='r')\n",
    "plt.xlabel('t [s]')\n",
    "plt.ylabel('Phi [us]')\n",
    "plt.legend(('phi est',''));"
   ]
  },
  {
   "cell_type": "code",
   "execution_count": 70,
   "metadata": {},
   "outputs": [
    {
     "data": {
      "text/plain": [
       "1499764.0"
      ]
     },
     "execution_count": 70,
     "metadata": {},
     "output_type": "execute_result"
    }
   ],
   "source": [
    "np.max(np.diff(t1))"
   ]
  },
  {
   "cell_type": "code",
   "execution_count": 63,
   "metadata": {},
   "outputs": [
    {
     "data": {
      "text/plain": [
       "1017241.3382438588"
      ]
     },
     "execution_count": 63,
     "metadata": {},
     "output_type": "execute_result"
    }
   ],
   "source": [
    "np.mean(np.diff(t1))"
   ]
  },
  {
   "cell_type": "code",
   "execution_count": null,
   "metadata": {},
   "outputs": [],
   "source": []
  },
  {
   "cell_type": "markdown",
   "metadata": {},
   "source": [
    "Para completar los segundos que se saltea y los cambios no sean tan bruscos, interpolamos:"
   ]
  },
  {
   "cell_type": "code",
   "execution_count": 35,
   "metadata": {},
   "outputs": [],
   "source": [
    "from estimate_phi import interpolate_missing_values\n",
    "\n",
    "t1, phi_est = interpolate_missing_values(t1, phi_est)"
   ]
  },
  {
   "cell_type": "markdown",
   "metadata": {},
   "source": [
    "In order to avoid the peaks in the figure, we can smooth the data replacing each point with the median of a window of 600 points"
   ]
  },
  {
   "cell_type": "code",
   "execution_count": 36,
   "metadata": {},
   "outputs": [
    {
     "name": "stdout",
     "output_type": "stream",
     "text": [
      "Finished Phi median 600 (6.275s)\n"
     ]
    }
   ],
   "source": [
    "from median_calculator import median_window\n",
    "import numpy as np\n",
    "\n",
    "\n",
    "timer.start()\n",
    "phi_med_600 = median_window(phi_est, 600)\n",
    "phi_med_600 = np.array(phi_med_600)\n",
    "t1 = t1[:len(phi_med_600)]\n",
    "timer.end(\"Finished Phi median 600 ({:.3f}s)\")"
   ]
  },
  {
   "cell_type": "code",
   "execution_count": 54,
   "metadata": {},
   "outputs": [
    {
     "data": {
      "text/plain": [
       "49176"
      ]
     },
     "execution_count": 54,
     "metadata": {},
     "output_type": "execute_result"
    }
   ],
   "source": [
    "np.argmax(phi_med_600 < 500000)"
   ]
  },
  {
   "cell_type": "code",
   "execution_count": 57,
   "metadata": {},
   "outputs": [
    {
     "data": {
      "text/plain": [
       "499405.5487804878"
      ]
     },
     "execution_count": 57,
     "metadata": {},
     "output_type": "execute_result"
    }
   ],
   "source": [
    "phi_med_600[49176]\n",
    "phi_med_600[49177]"
   ]
  },
  {
   "cell_type": "code",
   "execution_count": 58,
   "metadata": {},
   "outputs": [
    {
     "data": {
      "image/png": "[encoded data removed]",
      "text/plain": [
       "<Figure size 432x288 with 1 Axes>"
      ]
     },
     "metadata": {},
     "output_type": "display_data"
    }
   ],
   "source": [
    "start = 49000\n",
    "end = start + 1000\n",
    "plt.plot(phi_med_600[start:end],c='b')\n",
    "plt.xlabel('t [s]')\n",
    "plt.ylabel('Phi [us]')\n",
    "plt.legend(('phi med',''));"
   ]
  },
  {
   "cell_type": "markdown",
   "metadata": {},
   "source": [
    "And now we smooth again the data by using a linear regression"
   ]
  },
  {
   "cell_type": "code",
   "execution_count": 38,
   "metadata": {},
   "outputs": [],
   "source": [
    "phi_med_600 = phi_med_600[:len(phi_med_600)//60*60]\n",
    "t1 = t1[:len(phi_med_600)]\n",
    "t1.tofile(T1_OUT_FILE)"
   ]
  },
  {
   "cell_type": "code",
   "execution_count": 39,
   "metadata": {},
   "outputs": [
    {
     "name": "stdout",
     "output_type": "stream",
     "text": [
      "Finished Phi lin reg 60 (3.997s)\n"
     ]
    }
   ],
   "source": [
    "from estimate_phi import linear_reg\n",
    "timer.start()\n",
    "f_lin, k_lin = linear_reg(t1, phi_med_600, 60)\n",
    "phi_lin = np.zeros(len(t1))\n",
    "\n",
    "for i in range(len(t1) // 60):\n",
    "    phi_lin[i * 60:(i + 1) * 60] = t1[i * 60:(i + 1) * 60] * f_lin[i] + k_lin[i]\n",
    "timer.end(\"Finished Phi lin reg 60 ({:.3f}s)\")"
   ]
  },
  {
   "cell_type": "code",
   "execution_count": 40,
   "metadata": {},
   "outputs": [
    {
     "data": {
      "image/png": "[encoded data removed]",
      "text/plain": [
       "<Figure size 432x288 with 1 Axes>"
      ]
     },
     "metadata": {},
     "output_type": "display_data"
    }
   ],
   "source": [
    "start = 10000\n",
    "end = start + 120\n",
    "plt.plot(t1[start:end]/1e6,phi_med_600[start:end],c='b');\n",
    "plt.plot(t1[start:end]/1e6,phi_lin[start:end],c='g')\n",
    "plt.xlabel('t [s]')\n",
    "plt.ylabel('Phi [us]')\n",
    "plt.legend(('phi med', 'phi est'));"
   ]
  },
  {
   "cell_type": "markdown",
   "metadata": {},
   "source": [
    "Now we apply an ARMA filter"
   ]
  },
  {
   "cell_type": "code",
   "execution_count": 41,
   "metadata": {},
   "outputs": [
    {
     "name": "stdout",
     "output_type": "stream",
     "text": [
      "Finished Phi ARMA (0.102s)\n"
     ]
    }
   ],
   "source": [
    "from estimate_phi import arma_filter\n",
    "\n",
    "timer.start()\n",
    "alpha = 0.15\n",
    "f, k = arma_filter(f_lin, k_lin, alpha)\n",
    "phi_arma = np.zeros(len(t1))\n",
    "for i in range(len(t1) // 60):\n",
    "    phi_arma[i * 60:(i + 1) * 60] = t1[i * 60:(i + 1) * 60] * f[i] + k[i]\n",
    "timer.end(\"Finished Phi ARMA ({:.3f}s)\")"
   ]
  },
  {
   "cell_type": "code",
   "execution_count": 49,
   "metadata": {},
   "outputs": [
    {
     "data": {
      "image/png": "[encoded data removed]",
      "text/plain": [
       "<Figure size 432x288 with 1 Axes>"
      ]
     },
     "metadata": {},
     "output_type": "display_data"
    }
   ],
   "source": [
    "start = 10000\n",
    "end = start + 300000\n",
    "plt.plot(t1[start:end]/1e6,phi_med_600[start:end],c='b')\n",
    "plt.plot(t1[start:end]/1e6,phi_lin[start:end],c='g')\n",
    "plt.plot(t1[start:end]/1e6,phi_arma[start:end],c='orange')\n",
    "plt.xlabel('t [s]')\n",
    "plt.ylabel('Phi [us]')\n",
    "plt.legend(('phi med','phi lin', 'phi arma'));"
   ]
  },
  {
   "cell_type": "code",
   "execution_count": 59,
   "metadata": {},
   "outputs": [
    {
     "data": {
      "text/plain": [
       "1499764.0"
      ]
     },
     "execution_count": 59,
     "metadata": {},
     "output_type": "execute_result"
    }
   ],
   "source": [
    "np.max(np.diff(t1))"
   ]
  },
  {
   "cell_type": "code",
   "execution_count": 47,
   "metadata": {},
   "outputs": [],
   "source": [
    "phi_arma.tofile(O_FILE)"
   ]
  }
 ],
 "metadata": {
  "kernelspec": {
   "display_name": "Python 3",
   "language": "python",
   "name": "python3"
  },
  "language_info": {
   "codemirror_mode": {
    "name": "ipython",
    "version": 3
   },
   "file_extension": ".py",
   "mimetype": "text/x-python",
   "name": "python",
   "nbconvert_exporter": "python",
   "pygments_lexer": "ipython3",
   "version": "3.6.6"
  }
 },
 "nbformat": 4,
 "nbformat_minor": 2
}
